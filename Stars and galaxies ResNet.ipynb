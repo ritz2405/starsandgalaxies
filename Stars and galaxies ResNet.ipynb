{
 "cells": [
  {
   "cell_type": "code",
   "execution_count": 51,
   "id": "47ecdb54",
   "metadata": {},
   "outputs": [],
   "source": [
    "import pandas as pd, numpy as np, matplotlib.pyplot as plt, tensorflow as tf, os\n",
    "from tensorflow.keras.utils import image_dataset_from_directory\n",
    "from tensorflow.keras import layers as tfl, optimizers\n",
    "from sklearn.model_selection import train_test_split\n",
    "from tensorflow.keras.preprocessing import image \n",
    "import cv2\n",
    "import sys\n",
    "from tensorflow.keras.utils import to_categorical"
   ]
  },
  {
   "cell_type": "code",
   "execution_count": 52,
   "id": "87ba9b71",
   "metadata": {},
   "outputs": [
    {
     "data": {
      "text/plain": [
       "True"
      ]
     },
     "execution_count": 52,
     "metadata": {},
     "output_type": "execute_result"
    }
   ],
   "source": [
    "tf.test.is_built_with_cuda()"
   ]
  },
  {
   "cell_type": "code",
   "execution_count": 53,
   "id": "c9ae7484",
   "metadata": {},
   "outputs": [],
   "source": [
    "data = []\n",
    "labels = []\n",
    "\n",
    "import glob\n",
    "galaxy_path = glob.glob(\"galaxy/*\")\n",
    "star_path = glob.glob(\"star/*\")\n",
    "\n",
    "for x in galaxy_path:\n",
    "  image = cv2.imread(x,1)\n",
    "  image = np.array(image)\n",
    "  data.append(image)\n",
    "  labels.append(0)\n",
    "for x in star_path:\n",
    "  image = cv2.imread(x,1)\n",
    "  image = np.array(image)\n",
    "  data.append(image)\n",
    "  labels.append(1)"
   ]
  },
  {
   "cell_type": "code",
   "execution_count": 54,
   "id": "2bd0837d",
   "metadata": {},
   "outputs": [
    {
     "data": {
      "text/plain": [
       "0"
      ]
     },
     "execution_count": 54,
     "metadata": {},
     "output_type": "execute_result"
    }
   ],
   "source": [
    "labels[200]"
   ]
  },
  {
   "cell_type": "code",
   "execution_count": 55,
   "id": "c83e3dee",
   "metadata": {},
   "outputs": [],
   "source": [
    "data, labels = np.array(image), np.array(labels)"
   ]
  },
  {
   "cell_type": "code",
   "execution_count": 56,
   "id": "0b162e5d",
   "metadata": {},
   "outputs": [],
   "source": [
    "dataset = pd.DataFrame(list(zip(data, labels)), columns = ['images', 'labels'])"
   ]
  },
  {
   "cell_type": "code",
   "execution_count": 57,
   "id": "bf3799e7",
   "metadata": {},
   "outputs": [],
   "source": [
    "X_train, X_test, y_train, y_test = train_test_split(dataset['images'], dataset['labels'], test_size=0.2, random_state=42, shuffle=True)"
   ]
  },
  {
   "cell_type": "code",
   "execution_count": 58,
   "id": "484ef752",
   "metadata": {},
   "outputs": [],
   "source": [
    "X_test, X_valid, y_test, y_valid = train_test_split(X_test, y_test, test_size=0.5, random_state=42, shuffle=True)"
   ]
  },
  {
   "cell_type": "code",
   "execution_count": 59,
   "id": "236fd430",
   "metadata": {},
   "outputs": [],
   "source": [
    "y_train, y_valid = to_categorical(y_train), to_categorical(y_valid)"
   ]
  },
  {
   "cell_type": "code",
   "execution_count": 60,
   "id": "2c3255dc",
   "metadata": {},
   "outputs": [],
   "source": [
    "def show_img(x, y, index):\n",
    "    plt.imshow(x[index])\n",
    "    if y[index]==0:\n",
    "        plt.title('galaxy')\n",
    "    else:\n",
    "        plt.title('star')\n",
    "    plt.axis('off')    \n",
    "    plt.show()    "
   ]
  },
  {
   "cell_type": "code",
   "execution_count": 61,
   "id": "5cf12507",
   "metadata": {},
   "outputs": [
    {
     "data": {
      "text/plain": [
       "(51,)"
      ]
     },
     "execution_count": 61,
     "metadata": {},
     "output_type": "execute_result"
    }
   ],
   "source": [
    "X_train.shape"
   ]
  },
  {
   "cell_type": "code",
   "execution_count": 13,
   "id": "2f29c05b",
   "metadata": {},
   "outputs": [],
   "source": [
    "def identity_block(input_img, filters):\n",
    "  x_img = input_img\n",
    "\n",
    "  conv11 = layers.Conv2D(filters, kernel_size=3, padding=\"same\")(x_img)\n",
    "  batch11 = layers.BatchNormalization()(conv11)\n",
    "  relu11 = layers.ReLU()(batch11)\n",
    "\n",
    "  conv21 = layers.Conv2D(filters, kernel_size=3, padding=\"same\")(relu11)\n",
    "  batch21 = layers.BatchNormalization()(conv21)\n",
    "\n",
    "  x_add = layers.Add()([x_img, batch21])\n",
    "  x_identity = layers.ReLU()(x_add)\n",
    "\n",
    "  return x_identity"
   ]
  },
  {
   "cell_type": "code",
   "execution_count": null,
   "id": "82baac52",
   "metadata": {},
   "outputs": [],
   "source": []
  }
 ],
 "metadata": {
  "kernelspec": {
   "display_name": "Python 3 (ipykernel)",
   "language": "python",
   "name": "python3"
  },
  "language_info": {
   "codemirror_mode": {
    "name": "ipython",
    "version": 3
   },
   "file_extension": ".py",
   "mimetype": "text/x-python",
   "name": "python",
   "nbconvert_exporter": "python",
   "pygments_lexer": "ipython3",
   "version": "3.10.11"
  }
 },
 "nbformat": 4,
 "nbformat_minor": 5
}
